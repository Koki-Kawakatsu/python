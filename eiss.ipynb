{
 "cells": [
  {
   "cell_type": "code",
   "execution_count": null,
   "metadata": {},
   "outputs": [],
   "source": [
    "plt.figure(figsize=(12, 8))\n",
    "plt.plot(time, mean5, color='k', linewidth=7)\n",
    "plt.plot(time, mean5_5, color='b', alpha=0.7, linewidth=7)\n",
    "plt.plot(time, result5, color='r', alpha=0.7, linewidth=9)\n",
    "plt.vlines(x=0, ymin=-0.015, ymax=0.015, color='darkslategray', alpha=.7, linestyles='dashed')\n",
    "plt.hlines(y=0, xmin=cut_left, xmax=cut_right, color='k', linewidth=0.7,  alpha=.6, linestyles='dashed')\n",
    "plt.grid(True)\n",
    "\n",
    "plt.show()"
   ]
  },
  {
   "cell_type": "code",
   "execution_count": null,
   "metadata": {},
   "outputs": [],
   "source": [
    "import numpy as np\n",
    "\n",
    "# サンプリング周波数\n",
    "fs = 40000\n",
    "\n",
    "# データの時間範囲\n",
    "time = np.linspace(-0.2, 0.7, int(0.9 * fs))\n",
    "\n",
    "# 0.1sから0.25sの範囲のデータのインデックスを計算\n",
    "start_idx_1 = int((0.1 + 0.2) * fs)\n",
    "end_idx_1 = int((0.25 + 0.2) * fs)\n",
    "\n",
    "# 0.25sから0.45sの範囲のデータのインデックスを計算\n",
    "start_idx_2 = int((0.25 + 0.2) * fs)\n",
    "end_idx_2 = int((0.45 + 0.2) * fs)\n",
    "\n",
    "# 0.1sから0.25sの範囲のデータから負の最大振幅とその時間を取得\n",
    "negative_peak_value = np.min(result10[start_idx_1:end_idx_1])\n",
    "negative_peak_time = time[start_idx_1:end_idx_1][np.argmin(result10[start_idx_1:end_idx_1])]\n",
    "\n",
    "# 0.25sから0.45sの範囲のデータから正の最大振幅とその時間を取得\n",
    "positive_peak_value = np.max(result10[start_idx_2:end_idx_2])\n",
    "positive_peak_time = time[start_idx_2:end_idx_2][np.argmax(result10[start_idx_2:end_idx_2])]\n",
    "\n",
    "# 結果を表示\n",
    "print(f\"0.1sから0.25sの間の負の最大振幅: {negative_peak_value} at time {negative_peak_time}s\")\n",
    "print(f\"0.25sから0.45sの間の正の最大振幅: {positive_peak_value} at time {positive_peak_time}s\")"
   ]
  },
  {
   "cell_type": "code",
   "execution_count": null,
   "metadata": {},
   "outputs": [],
   "source": [
    "import pandas as pd\n",
    "import numpy as np\n",
    "\n",
    "# サンプリング周波数\n",
    "fs = 40000\n",
    "\n",
    "# データの時間範囲\n",
    "time = np.linspace(-0.2, 0.7, int(0.9 * fs))\n",
    "\n",
    "# 0.1sから0.25sの範囲のデータのインデックスを計算\n",
    "start_idx_1 = int((0.1 + 0.2) * fs)\n",
    "end_idx_1 = int((0.25 + 0.2) * fs)\n",
    "\n",
    "# 0.25sから0.45sの範囲のデータのインデックスを計算\n",
    "start_idx_2 = int((0.25 + 0.2) * fs)\n",
    "end_idx_2 = int((0.45 + 0.2) * fs)\n",
    "\n",
    "# 0.1sから0.25sの範囲のデータから負の最大振幅とその時間を取得\n",
    "negative_peak_value = np.min(result10[start_idx_1:end_idx_1])\n",
    "negative_peak_time = time[start_idx_1:end_idx_1][np.argmin(result10[start_idx_1:end_idx_1])]\n",
    "\n",
    "# 0.25sから0.45sの範囲のデータから正の最大振幅とその時間を取得\n",
    "positive_peak_value = np.max(result10[start_idx_2:end_idx_2])\n",
    "positive_peak_time = time[start_idx_2:end_idx_2][np.argmax(result10[start_idx_2:end_idx_2])]\n",
    "\n",
    "# 結果をデータフレームに変換\n",
    "df = pd.DataFrame({\n",
    "    'Range': ['0.1s-0.25s', '0.25s-0.45s'],\n",
    "    'Peak Value': [negative_peak_value, positive_peak_value],\n",
    "    'Peak Time': [negative_peak_time, positive_peak_time]\n",
    "})\n",
    "\n",
    "print(\"Initial DataFrame:\")\n",
    "print(df)"
   ]
  },
  {
   "cell_type": "code",
   "execution_count": null,
   "metadata": {},
   "outputs": [],
   "source": [
    "# ResultXXの計算と追加\n",
    "# 0.1sから0.25sの範囲のデータから負の最大振幅とその時間を取得\n",
    "negative_peak_value_X = np.min(result5[start_idx_1:end_idx_1])\n",
    "negative_peak_time_X = time[start_idx_1:end_idx_1][np.argmin(result5[start_idx_1:end_idx_1])]\n",
    "\n",
    "# 0.25sから0.45sの範囲のデータから正の最大振幅とその時間を取得\n",
    "positive_peak_value_X = np.max(result5[start_idx_2:end_idx_2])\n",
    "positive_peak_time_X = time[start_idx_2:end_idx_2][np.argmax(result5[start_idx_2:end_idx_2])]\n",
    "\n",
    "# 新しい結果をデータフレームに追加\n",
    "df_new = pd.DataFrame({\n",
    "    'Range': ['0.1s-0.25s', '0.25s-0.45s'],\n",
    "    'Peak Value': [negative_peak_value_X, positive_peak_value_X],\n",
    "    'Peak Time': [negative_peak_time_X, positive_peak_time_X]\n",
    "})\n",
    "\n",
    "# データフレームを結合\n",
    "df = pd.concat([df, df_new], ignore_index=True)\n",
    "\n",
    "print(\"Updated DataFrame with result5:\")\n",
    "print(df)"
   ]
  },
  {
   "cell_type": "code",
   "execution_count": null,
   "metadata": {},
   "outputs": [],
   "source": [
    "df.to_csv('peak_amplitudes.csv', index=False)\n",
    "\n",
    "print(\"DataFrame saved to 'peak_amplitudes.csv'.\")"
   ]
  }
 ],
 "metadata": {
  "language_info": {
   "name": "python"
  }
 },
 "nbformat": 4,
 "nbformat_minor": 2
}
